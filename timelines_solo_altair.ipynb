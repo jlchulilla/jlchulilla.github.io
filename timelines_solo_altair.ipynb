{
  "nbformat": 4,
  "nbformat_minor": 0,
  "metadata": {
    "colab": {
      "name": "timelines_solo altair.ipynb",
      "provenance": [],
      "collapsed_sections": [],
      "include_colab_link": true
    },
    "kernelspec": {
      "name": "python3",
      "display_name": "Python 3"
    }
  },
  "cells": [
    {
      "cell_type": "markdown",
      "metadata": {
        "id": "view-in-github",
        "colab_type": "text"
      },
      "source": [
        "<a href=\"https://colab.research.google.com/github/jlchulilla/jlchulilla.github.io/blob/master/timelines_solo_altair.ipynb\" target=\"_parent\"><img src=\"https://colab.research.google.com/assets/colab-badge.svg\" alt=\"Open In Colab\"/></a>"
      ]
    },
    {
      "cell_type": "code",
      "metadata": {
        "id": "YomzVzm9D1m0",
        "colab_type": "code",
        "colab": {}
      },
      "source": [
        "import pandas as pd\n",
        "pd.set_option('display.max_rows', 50)"
      ],
      "execution_count": 0,
      "outputs": []
    },
    {
      "cell_type": "code",
      "metadata": {
        "id": "iGMsg8QEQRuS",
        "colab_type": "code",
        "outputId": "86e81cb3-e2a2-4e6f-8587-5171ae276ebd",
        "colab": {
          "base_uri": "https://localhost:8080/",
          "height": 122
        }
      },
      "source": [
        "from google.colab import drive\n",
        "drive.mount('/content/drive')"
      ],
      "execution_count": 1,
      "outputs": [
        {
          "output_type": "stream",
          "text": [
            "Go to this URL in a browser: https://accounts.google.com/o/oauth2/auth?client_id=947318989803-6bn6qk8qdgf4n4g3pfee6491hc0brc4i.apps.googleusercontent.com&redirect_uri=urn%3aietf%3awg%3aoauth%3a2.0%3aoob&response_type=code&scope=email%20https%3a%2f%2fwww.googleapis.com%2fauth%2fdocs.test%20https%3a%2f%2fwww.googleapis.com%2fauth%2fdrive%20https%3a%2f%2fwww.googleapis.com%2fauth%2fdrive.photos.readonly%20https%3a%2f%2fwww.googleapis.com%2fauth%2fpeopleapi.readonly\n",
            "\n",
            "Enter your authorization code:\n",
            "··········\n",
            "Mounted at /content/drive\n"
          ],
          "name": "stdout"
        }
      ]
    },
    {
      "cell_type": "code",
      "metadata": {
        "id": "oUK5OCE2LNhP",
        "colab_type": "code",
        "cellView": "code",
        "outputId": "cccedb8f-de0b-4de4-a8f2-6d464253a591",
        "colab": {
          "base_uri": "https://localhost:8080/",
          "height": 754
        }
      },
      "source": [
        "#@title Fallecimientos por día\n",
        "#@markdown Para seleccionar los tags a representar, escriba los tags se parados por comas. Ejemplo: `Comunidad de Madrid,COVID-19,Díaz Ayuso,residencias`. \n",
        "#@markdown \n",
        "#@markdown La  lista disponible es...\n",
        "#@markdown \n",
        "#@markdown pulse Ctrl + Enter para renovar el gráfico\n",
        "\n",
        "#lista para seleccionar países\n",
        "df2 = pd.read_csv('/content/drive/My Drive/PPMadrid/limpio_fechas_tags_comadrid_googlenl.csv')\n",
        "df3 = pd.read_csv('/content/drive/My Drive/PPMadrid/limpio_fechas_tags_comadrid_oandoqda.csv')\n",
        "filtratags2 = \"COVID-19,AULA,violencia de género,discapacidad\"  #@param {type: \"string\"}\n",
        "listatags2 = filtratags2.split(',')\n",
        "print(listatags2)\n",
        "filtratags3 = \"Covid-19,AULA,Violencia de género,Personas con discapacidad \"  #@param {type: \"string\"}\n",
        "listatags3 = filtratags3.split(',')\n",
        "\n",
        "\n",
        "df2 = df2[df2['tag'].isin(listatags2)]\n",
        "df3 = df3[df3['tag'].isin(listatags3)]\n",
        "print(df2)\n",
        "\n",
        "#El fetén\n",
        "import altair as alt\n",
        "rangofechas = [\"2020-03-01\", \"2020-5-31\"]\n",
        "\n",
        "#df2 = pd.read_csv('/content/drive/My Drive/PPMadrid/fechas_nopivot.csv')\n",
        "def base_timeline(df):\n",
        "  line = alt.Chart(df).mark_circle(\n",
        "      opacity=0.8,\n",
        "      stroke='black',\n",
        "      strokeWidth=1\n",
        "  ).encode(\n",
        "      alt.X('fecha:T', axis=alt.Axis(labelAngle=60,format='%d/%m'),\n",
        "            scale=alt.Scale(domain=rangofechas)),\n",
        "      alt.Y('tag:N'),\n",
        "      alt.Size('cuentafecha:Q',\n",
        "          scale=alt.Scale(range=[0,200]),\n",
        "          legend=alt.Legend(title='count x day', symbolFillColor = 'red')\n",
        "      ),\n",
        "      alt.Color('tag:N', legend=None)\n",
        "  ).properties(\n",
        "      width=700,\n",
        "      height=150\n",
        "  )\n",
        "  #nearest = alt.selection(type='single', nearest=True, on='mouseover',fields=['Fecha:O'], empty='none')\n",
        "\n",
        "  rules = alt.Chart(df2).mark_rule(color='lightgray').encode(\n",
        "      x='Fecha:T',\n",
        "      y='Tag:N'\n",
        "  )\n",
        "  return line\n",
        "\n",
        "line3 = base_timeline(df3)\n",
        "alt.vconcat(line2,line3).configure_axis(\n",
        "  labelFontSize=12,\n",
        "  titleFontSize=14\n",
        "  ).properties(\n",
        "  title='Qualitative Entities and Machine Learning Entities Timeline'\n",
        ").configure_title(\n",
        "  fontSize=20,\n",
        "  color='gray',\n",
        "  dy =-10\n",
        ")\n",
        "\n",
        "\n",
        "  \n",
        "\n",
        "\n",
        "\n",
        "\n",
        "\n",
        "\n"
      ],
      "execution_count": 6,
      "outputs": [
        {
          "output_type": "stream",
          "text": [
            "['COVID-19', 'AULA', 'violencia de género', 'discapacidad']\n",
            "      Unnamed: 0                  tag  cuentatag       fecha  cuentafecha\n",
            "344         1338             COVID-19        129  2020-05-19            5\n",
            "345         1337             COVID-19        129  2020-05-18            1\n",
            "346         1336             COVID-19        129  2020-05-17            1\n",
            "347         1335             COVID-19        129  2020-05-16            2\n",
            "348         1334             COVID-19        129  2020-05-14            2\n",
            "...          ...                  ...        ...         ...          ...\n",
            "6108        9475  violencia de género          3  2020-04-09            1\n",
            "6414        9474  violencia de género          3  2020-03-10            1\n",
            "6458        1082                 AULA          3  2020-03-06            1\n",
            "6466        1081                 AULA          3  2020-03-05            1\n",
            "6479        1080                 AULA          3  2020-03-04            1\n",
            "\n",
            "[67 rows x 5 columns]\n"
          ],
          "name": "stdout"
        },
        {
          "output_type": "execute_result",
          "data": {
            "text/plain": [
              "alt.VConcatChart(...)"
            ],
            "text/html": [
              "\n",
              "<div id=\"altair-viz-dc3943e7ca94427a828e5c42f7231658\"></div>\n",
              "<script type=\"text/javascript\">\n",
              "  (function(spec, embedOpt){\n",
              "    let outputDiv = document.currentScript.previousElementSibling;\n",
              "    if (outputDiv.id !== \"altair-viz-dc3943e7ca94427a828e5c42f7231658\") {\n",
              "      outputDiv = document.getElementById(\"altair-viz-dc3943e7ca94427a828e5c42f7231658\");\n",
              "    }\n",
              "    const paths = {\n",
              "      \"vega\": \"https://cdn.jsdelivr.net/npm//vega@5?noext\",\n",
              "      \"vega-lib\": \"https://cdn.jsdelivr.net/npm//vega-lib?noext\",\n",
              "      \"vega-lite\": \"https://cdn.jsdelivr.net/npm//vega-lite@4.8.1?noext\",\n",
              "      \"vega-embed\": \"https://cdn.jsdelivr.net/npm//vega-embed@6?noext\",\n",
              "    };\n",
              "\n",
              "    function loadScript(lib) {\n",
              "      return new Promise(function(resolve, reject) {\n",
              "        var s = document.createElement('script');\n",
              "        s.src = paths[lib];\n",
              "        s.async = true;\n",
              "        s.onload = () => resolve(paths[lib]);\n",
              "        s.onerror = () => reject(`Error loading script: ${paths[lib]}`);\n",
              "        document.getElementsByTagName(\"head\")[0].appendChild(s);\n",
              "      });\n",
              "    }\n",
              "\n",
              "    function showError(err) {\n",
              "      outputDiv.innerHTML = `<div class=\"error\" style=\"color:red;\">${err}</div>`;\n",
              "      throw err;\n",
              "    }\n",
              "\n",
              "    function displayChart(vegaEmbed) {\n",
              "      vegaEmbed(outputDiv, spec, embedOpt)\n",
              "        .catch(err => showError(`Javascript Error: ${err.message}<br>This usually means there's a typo in your chart specification. See the javascript console for the full traceback.`));\n",
              "    }\n",
              "\n",
              "    if(typeof define === \"function\" && define.amd) {\n",
              "      requirejs.config({paths});\n",
              "      require([\"vega-embed\"], displayChart, err => showError(`Error loading script: ${err.message}`));\n",
              "    } else if (typeof vegaEmbed === \"function\") {\n",
              "      displayChart(vegaEmbed);\n",
              "    } else {\n",
              "      loadScript(\"vega\")\n",
              "        .then(() => loadScript(\"vega-lite\"))\n",
              "        .then(() => loadScript(\"vega-embed\"))\n",
              "        .catch(showError)\n",
              "        .then(() => displayChart(vegaEmbed));\n",
              "    }\n",
              "  })({\"config\": {\"view\": {\"continuousWidth\": 400, \"continuousHeight\": 300}, \"axis\": {\"labelFontSize\": 12, \"titleFontSize\": 14}, \"title\": {\"color\": \"gray\", \"dy\": -10, \"fontSize\": 20}}, \"vconcat\": [{\"data\": {\"name\": \"data-1538b229c3fcd44505cfc917ee0d792d\"}, \"mark\": {\"type\": \"circle\", \"opacity\": 0.8, \"stroke\": \"black\", \"strokeWidth\": 1}, \"encoding\": {\"color\": {\"type\": \"nominal\", \"field\": \"tag\", \"legend\": null}, \"size\": {\"type\": \"quantitative\", \"field\": \"cuentafecha\", \"legend\": {\"symbolFillColor\": \"red\", \"title\": \"count x day\"}, \"scale\": {\"range\": [0, 200]}}, \"x\": {\"type\": \"temporal\", \"axis\": {\"format\": \"%d/%m\", \"labelAngle\": 60}, \"field\": \"fecha\", \"scale\": {\"domain\": [\"2020-03-01\", \"2020-5-31\"]}}, \"y\": {\"type\": \"nominal\", \"field\": \"tag\"}}, \"height\": 150, \"width\": 700}, {\"data\": {\"name\": \"data-dd059acdd51abeae5d3954fd46ee44f1\"}, \"mark\": {\"type\": \"circle\", \"opacity\": 0.8, \"stroke\": \"black\", \"strokeWidth\": 1}, \"encoding\": {\"color\": {\"type\": \"nominal\", \"field\": \"tag\", \"legend\": null}, \"size\": {\"type\": \"quantitative\", \"field\": \"cuentafecha\", \"legend\": {\"symbolFillColor\": \"red\", \"title\": \"count x day\"}, \"scale\": {\"range\": [0, 200]}}, \"x\": {\"type\": \"temporal\", \"axis\": {\"format\": \"%d/%m\", \"labelAngle\": 60}, \"field\": \"fecha\", \"scale\": {\"domain\": [\"2020-03-01\", \"2020-5-31\"]}}, \"y\": {\"type\": \"nominal\", \"field\": \"tag\"}}, \"height\": 150, \"width\": 700}], \"title\": \"Qualitative Entities and Machine Learning Entities Timeline\", \"$schema\": \"https://vega.github.io/schema/vega-lite/v4.8.1.json\", \"datasets\": {\"data-1538b229c3fcd44505cfc917ee0d792d\": [{\"Unnamed: 0\": 1338, \"tag\": \"COVID-19\", \"cuentatag\": 129, \"fecha\": \"2020-05-19\", \"cuentafecha\": 5}, {\"Unnamed: 0\": 1337, \"tag\": \"COVID-19\", \"cuentatag\": 129, \"fecha\": \"2020-05-18\", \"cuentafecha\": 1}, {\"Unnamed: 0\": 1336, \"tag\": \"COVID-19\", \"cuentatag\": 129, \"fecha\": \"2020-05-17\", \"cuentafecha\": 1}, {\"Unnamed: 0\": 1335, \"tag\": \"COVID-19\", \"cuentatag\": 129, \"fecha\": \"2020-05-16\", \"cuentafecha\": 2}, {\"Unnamed: 0\": 1334, \"tag\": \"COVID-19\", \"cuentatag\": 129, \"fecha\": \"2020-05-14\", \"cuentafecha\": 2}, {\"Unnamed: 0\": 1333, \"tag\": \"COVID-19\", \"cuentatag\": 129, \"fecha\": \"2020-05-13\", \"cuentafecha\": 3}, {\"Unnamed: 0\": 1332, \"tag\": \"COVID-19\", \"cuentatag\": 129, \"fecha\": \"2020-05-12\", \"cuentafecha\": 1}, {\"Unnamed: 0\": 1331, \"tag\": \"COVID-19\", \"cuentatag\": 129, \"fecha\": \"2020-05-10\", \"cuentafecha\": 3}, {\"Unnamed: 0\": 1330, \"tag\": \"COVID-19\", \"cuentatag\": 129, \"fecha\": \"2020-05-09\", \"cuentafecha\": 2}, {\"Unnamed: 0\": 1329, \"tag\": \"COVID-19\", \"cuentatag\": 129, \"fecha\": \"2020-05-08\", \"cuentafecha\": 2}, {\"Unnamed: 0\": 1328, \"tag\": \"COVID-19\", \"cuentatag\": 129, \"fecha\": \"2020-05-07\", \"cuentafecha\": 3}, {\"Unnamed: 0\": 1327, \"tag\": \"COVID-19\", \"cuentatag\": 129, \"fecha\": \"2020-05-06\", \"cuentafecha\": 3}, {\"Unnamed: 0\": 1326, \"tag\": \"COVID-19\", \"cuentatag\": 129, \"fecha\": \"2020-05-05\", \"cuentafecha\": 2}, {\"Unnamed: 0\": 1325, \"tag\": \"COVID-19\", \"cuentatag\": 129, \"fecha\": \"2020-05-04\", \"cuentafecha\": 1}, {\"Unnamed: 0\": 1324, \"tag\": \"COVID-19\", \"cuentatag\": 129, \"fecha\": \"2020-05-02\", \"cuentafecha\": 2}, {\"Unnamed: 0\": 1323, \"tag\": \"COVID-19\", \"cuentatag\": 129, \"fecha\": \"2020-05-01\", \"cuentafecha\": 2}, {\"Unnamed: 0\": 1322, \"tag\": \"COVID-19\", \"cuentatag\": 129, \"fecha\": \"2020-04-30\", \"cuentafecha\": 3}, {\"Unnamed: 0\": 1321, \"tag\": \"COVID-19\", \"cuentatag\": 129, \"fecha\": \"2020-04-29\", \"cuentafecha\": 2}, {\"Unnamed: 0\": 1320, \"tag\": \"COVID-19\", \"cuentatag\": 129, \"fecha\": \"2020-04-28\", \"cuentafecha\": 6}, {\"Unnamed: 0\": 1319, \"tag\": \"COVID-19\", \"cuentatag\": 129, \"fecha\": \"2020-04-27\", \"cuentafecha\": 2}, {\"Unnamed: 0\": 1318, \"tag\": \"COVID-19\", \"cuentatag\": 129, \"fecha\": \"2020-04-26\", \"cuentafecha\": 2}, {\"Unnamed: 0\": 1317, \"tag\": \"COVID-19\", \"cuentatag\": 129, \"fecha\": \"2020-04-25\", \"cuentafecha\": 2}, {\"Unnamed: 0\": 1316, \"tag\": \"COVID-19\", \"cuentatag\": 129, \"fecha\": \"2020-04-24\", \"cuentafecha\": 2}, {\"Unnamed: 0\": 1315, \"tag\": \"COVID-19\", \"cuentatag\": 129, \"fecha\": \"2020-04-22\", \"cuentafecha\": 5}, {\"Unnamed: 0\": 1314, \"tag\": \"COVID-19\", \"cuentatag\": 129, \"fecha\": \"2020-04-21\", \"cuentafecha\": 5}, {\"Unnamed: 0\": 1313, \"tag\": \"COVID-19\", \"cuentatag\": 129, \"fecha\": \"2020-04-20\", \"cuentafecha\": 2}, {\"Unnamed: 0\": 1312, \"tag\": \"COVID-19\", \"cuentatag\": 129, \"fecha\": \"2020-04-19\", \"cuentafecha\": 1}, {\"Unnamed: 0\": 1311, \"tag\": \"COVID-19\", \"cuentatag\": 129, \"fecha\": \"2020-04-18\", \"cuentafecha\": 2}, {\"Unnamed: 0\": 1310, \"tag\": \"COVID-19\", \"cuentatag\": 129, \"fecha\": \"2020-04-16\", \"cuentafecha\": 3}, {\"Unnamed: 0\": 1309, \"tag\": \"COVID-19\", \"cuentatag\": 129, \"fecha\": \"2020-04-15\", \"cuentafecha\": 7}, {\"Unnamed: 0\": 1308, \"tag\": \"COVID-19\", \"cuentatag\": 129, \"fecha\": \"2020-04-14\", \"cuentafecha\": 2}, {\"Unnamed: 0\": 1307, \"tag\": \"COVID-19\", \"cuentatag\": 129, \"fecha\": \"2020-04-13\", \"cuentafecha\": 4}, {\"Unnamed: 0\": 1306, \"tag\": \"COVID-19\", \"cuentatag\": 129, \"fecha\": \"2020-04-11\", \"cuentafecha\": 2}, {\"Unnamed: 0\": 1305, \"tag\": \"COVID-19\", \"cuentatag\": 129, \"fecha\": \"2020-04-09\", \"cuentafecha\": 2}, {\"Unnamed: 0\": 1304, \"tag\": \"COVID-19\", \"cuentatag\": 129, \"fecha\": \"2020-04-08\", \"cuentafecha\": 2}, {\"Unnamed: 0\": 1303, \"tag\": \"COVID-19\", \"cuentatag\": 129, \"fecha\": \"2020-04-07\", \"cuentafecha\": 2}, {\"Unnamed: 0\": 1302, \"tag\": \"COVID-19\", \"cuentatag\": 129, \"fecha\": \"2020-04-06\", \"cuentafecha\": 3}, {\"Unnamed: 0\": 1301, \"tag\": \"COVID-19\", \"cuentatag\": 129, \"fecha\": \"2020-04-05\", \"cuentafecha\": 1}, {\"Unnamed: 0\": 1300, \"tag\": \"COVID-19\", \"cuentatag\": 129, \"fecha\": \"2020-04-04\", \"cuentafecha\": 1}, {\"Unnamed: 0\": 1299, \"tag\": \"COVID-19\", \"cuentatag\": 129, \"fecha\": \"2020-04-03\", \"cuentafecha\": 4}, {\"Unnamed: 0\": 1298, \"tag\": \"COVID-19\", \"cuentatag\": 129, \"fecha\": \"2020-04-02\", \"cuentafecha\": 4}, {\"Unnamed: 0\": 1297, \"tag\": \"COVID-19\", \"cuentatag\": 129, \"fecha\": \"2020-04-01\", \"cuentafecha\": 3}, {\"Unnamed: 0\": 1296, \"tag\": \"COVID-19\", \"cuentatag\": 129, \"fecha\": \"2020-03-31\", \"cuentafecha\": 4}, {\"Unnamed: 0\": 1295, \"tag\": \"COVID-19\", \"cuentatag\": 129, \"fecha\": \"2020-03-30\", \"cuentafecha\": 1}, {\"Unnamed: 0\": 1294, \"tag\": \"COVID-19\", \"cuentatag\": 129, \"fecha\": \"2020-03-29\", \"cuentafecha\": 1}, {\"Unnamed: 0\": 1293, \"tag\": \"COVID-19\", \"cuentatag\": 129, \"fecha\": \"2020-03-28\", \"cuentafecha\": 2}, {\"Unnamed: 0\": 1292, \"tag\": \"COVID-19\", \"cuentatag\": 129, \"fecha\": \"2020-03-26\", \"cuentafecha\": 1}, {\"Unnamed: 0\": 1291, \"tag\": \"COVID-19\", \"cuentatag\": 129, \"fecha\": \"2020-03-25\", \"cuentafecha\": 2}, {\"Unnamed: 0\": 1290, \"tag\": \"COVID-19\", \"cuentatag\": 129, \"fecha\": \"2020-03-21\", \"cuentafecha\": 2}, {\"Unnamed: 0\": 1289, \"tag\": \"COVID-19\", \"cuentatag\": 129, \"fecha\": \"2020-03-20\", \"cuentafecha\": 1}, {\"Unnamed: 0\": 1288, \"tag\": \"COVID-19\", \"cuentatag\": 129, \"fecha\": \"2020-03-19\", \"cuentafecha\": 1}, {\"Unnamed: 0\": 1287, \"tag\": \"COVID-19\", \"cuentatag\": 129, \"fecha\": \"2020-03-17\", \"cuentafecha\": 2}, {\"Unnamed: 0\": 1286, \"tag\": \"COVID-19\", \"cuentatag\": 129, \"fecha\": \"2020-03-16\", \"cuentafecha\": 1}, {\"Unnamed: 0\": 1285, \"tag\": \"COVID-19\", \"cuentatag\": 129, \"fecha\": \"2020-03-14\", \"cuentafecha\": 1}, {\"Unnamed: 0\": 1284, \"tag\": \"COVID-19\", \"cuentatag\": 129, \"fecha\": \"2020-03-12\", \"cuentafecha\": 1}, {\"Unnamed: 0\": 4737, \"tag\": \"discapacidad\", \"cuentatag\": 6, \"fecha\": \"2020-05-13\", \"cuentafecha\": 1}, {\"Unnamed: 0\": 4736, \"tag\": \"discapacidad\", \"cuentatag\": 6, \"fecha\": \"2020-04-28\", \"cuentafecha\": 1}, {\"Unnamed: 0\": 4735, \"tag\": \"discapacidad\", \"cuentatag\": 6, \"fecha\": \"2020-04-03\", \"cuentafecha\": 1}, {\"Unnamed: 0\": 4734, \"tag\": \"discapacidad\", \"cuentatag\": 6, \"fecha\": \"2020-03-11\", \"cuentafecha\": 1}, {\"Unnamed: 0\": 4733, \"tag\": \"discapacidad\", \"cuentatag\": 6, \"fecha\": \"2020-03-04\", \"cuentafecha\": 1}, {\"Unnamed: 0\": 4732, \"tag\": \"discapacidad\", \"cuentatag\": 6, \"fecha\": \"2020-03-01\", \"cuentafecha\": 1}, {\"Unnamed: 0\": 9476, \"tag\": \"violencia de g\\u00e9nero\", \"cuentatag\": 3, \"fecha\": \"2020-05-18\", \"cuentafecha\": 1}, {\"Unnamed: 0\": 9475, \"tag\": \"violencia de g\\u00e9nero\", \"cuentatag\": 3, \"fecha\": \"2020-04-09\", \"cuentafecha\": 1}, {\"Unnamed: 0\": 9474, \"tag\": \"violencia de g\\u00e9nero\", \"cuentatag\": 3, \"fecha\": \"2020-03-10\", \"cuentafecha\": 1}, {\"Unnamed: 0\": 1082, \"tag\": \"AULA\", \"cuentatag\": 3, \"fecha\": \"2020-03-06\", \"cuentafecha\": 1}, {\"Unnamed: 0\": 1081, \"tag\": \"AULA\", \"cuentatag\": 3, \"fecha\": \"2020-03-05\", \"cuentafecha\": 1}, {\"Unnamed: 0\": 1080, \"tag\": \"AULA\", \"cuentatag\": 3, \"fecha\": \"2020-03-04\", \"cuentafecha\": 1}], \"data-dd059acdd51abeae5d3954fd46ee44f1\": [{\"Unnamed: 0\": 290, \"tag\": \"Covid-19\", \"cuentatag\": 110, \"fecha\": \"2020-05-19\", \"cuentafecha\": 5}, {\"Unnamed: 0\": 289, \"tag\": \"Covid-19\", \"cuentatag\": 110, \"fecha\": \"2020-05-17\", \"cuentafecha\": 2}, {\"Unnamed: 0\": 288, \"tag\": \"Covid-19\", \"cuentatag\": 110, \"fecha\": \"2020-05-16\", \"cuentafecha\": 2}, {\"Unnamed: 0\": 287, \"tag\": \"Covid-19\", \"cuentatag\": 110, \"fecha\": \"2020-05-13\", \"cuentafecha\": 1}, {\"Unnamed: 0\": 286, \"tag\": \"Covid-19\", \"cuentatag\": 110, \"fecha\": \"2020-05-12\", \"cuentafecha\": 1}, {\"Unnamed: 0\": 285, \"tag\": \"Covid-19\", \"cuentatag\": 110, \"fecha\": \"2020-05-11\", \"cuentafecha\": 1}, {\"Unnamed: 0\": 284, \"tag\": \"Covid-19\", \"cuentatag\": 110, \"fecha\": \"2020-05-10\", \"cuentafecha\": 2}, {\"Unnamed: 0\": 283, \"tag\": \"Covid-19\", \"cuentatag\": 110, \"fecha\": \"2020-05-09\", \"cuentafecha\": 1}, {\"Unnamed: 0\": 282, \"tag\": \"Covid-19\", \"cuentatag\": 110, \"fecha\": \"2020-05-08\", \"cuentafecha\": 3}, {\"Unnamed: 0\": 281, \"tag\": \"Covid-19\", \"cuentatag\": 110, \"fecha\": \"2020-05-07\", \"cuentafecha\": 4}, {\"Unnamed: 0\": 280, \"tag\": \"Covid-19\", \"cuentatag\": 110, \"fecha\": \"2020-05-06\", \"cuentafecha\": 6}, {\"Unnamed: 0\": 279, \"tag\": \"Covid-19\", \"cuentatag\": 110, \"fecha\": \"2020-05-05\", \"cuentafecha\": 3}, {\"Unnamed: 0\": 278, \"tag\": \"Covid-19\", \"cuentatag\": 110, \"fecha\": \"2020-04-30\", \"cuentafecha\": 1}, {\"Unnamed: 0\": 277, \"tag\": \"Covid-19\", \"cuentatag\": 110, \"fecha\": \"2020-04-28\", \"cuentafecha\": 4}, {\"Unnamed: 0\": 276, \"tag\": \"Covid-19\", \"cuentatag\": 110, \"fecha\": \"2020-04-27\", \"cuentafecha\": 3}, {\"Unnamed: 0\": 275, \"tag\": \"Covid-19\", \"cuentatag\": 110, \"fecha\": \"2020-04-26\", \"cuentafecha\": 1}, {\"Unnamed: 0\": 274, \"tag\": \"Covid-19\", \"cuentatag\": 110, \"fecha\": \"2020-04-25\", \"cuentafecha\": 1}, {\"Unnamed: 0\": 273, \"tag\": \"Covid-19\", \"cuentatag\": 110, \"fecha\": \"2020-04-24\", \"cuentafecha\": 4}, {\"Unnamed: 0\": 272, \"tag\": \"Covid-19\", \"cuentatag\": 110, \"fecha\": \"2020-04-22\", \"cuentafecha\": 1}, {\"Unnamed: 0\": 271, \"tag\": \"Covid-19\", \"cuentatag\": 110, \"fecha\": \"2020-04-21\", \"cuentafecha\": 1}, {\"Unnamed: 0\": 270, \"tag\": \"Covid-19\", \"cuentatag\": 110, \"fecha\": \"2020-04-20\", \"cuentafecha\": 1}, {\"Unnamed: 0\": 269, \"tag\": \"Covid-19\", \"cuentatag\": 110, \"fecha\": \"2020-04-19\", \"cuentafecha\": 1}, {\"Unnamed: 0\": 268, \"tag\": \"Covid-19\", \"cuentatag\": 110, \"fecha\": \"2020-04-18\", \"cuentafecha\": 3}, {\"Unnamed: 0\": 267, \"tag\": \"Covid-19\", \"cuentatag\": 110, \"fecha\": \"2020-04-17\", \"cuentafecha\": 1}, {\"Unnamed: 0\": 266, \"tag\": \"Covid-19\", \"cuentatag\": 110, \"fecha\": \"2020-04-16\", \"cuentafecha\": 1}, {\"Unnamed: 0\": 265, \"tag\": \"Covid-19\", \"cuentatag\": 110, \"fecha\": \"2020-04-15\", \"cuentafecha\": 1}, {\"Unnamed: 0\": 264, \"tag\": \"Covid-19\", \"cuentatag\": 110, \"fecha\": \"2020-04-14\", \"cuentafecha\": 1}, {\"Unnamed: 0\": 263, \"tag\": \"Covid-19\", \"cuentatag\": 110, \"fecha\": \"2020-04-13\", \"cuentafecha\": 4}, {\"Unnamed: 0\": 262, \"tag\": \"Covid-19\", \"cuentatag\": 110, \"fecha\": \"2020-04-12\", \"cuentafecha\": 1}, {\"Unnamed: 0\": 261, \"tag\": \"Covid-19\", \"cuentatag\": 110, \"fecha\": \"2020-04-11\", \"cuentafecha\": 3}, {\"Unnamed: 0\": 260, \"tag\": \"Covid-19\", \"cuentatag\": 110, \"fecha\": \"2020-04-10\", \"cuentafecha\": 1}, {\"Unnamed: 0\": 259, \"tag\": \"Covid-19\", \"cuentatag\": 110, \"fecha\": \"2020-04-09\", \"cuentafecha\": 1}, {\"Unnamed: 0\": 258, \"tag\": \"Covid-19\", \"cuentatag\": 110, \"fecha\": \"2020-04-08\", \"cuentafecha\": 1}, {\"Unnamed: 0\": 257, \"tag\": \"Covid-19\", \"cuentatag\": 110, \"fecha\": \"2020-04-07\", \"cuentafecha\": 1}, {\"Unnamed: 0\": 256, \"tag\": \"Covid-19\", \"cuentatag\": 110, \"fecha\": \"2020-04-06\", \"cuentafecha\": 1}, {\"Unnamed: 0\": 255, \"tag\": \"Covid-19\", \"cuentatag\": 110, \"fecha\": \"2020-04-04\", \"cuentafecha\": 1}, {\"Unnamed: 0\": 254, \"tag\": \"Covid-19\", \"cuentatag\": 110, \"fecha\": \"2020-04-03\", \"cuentafecha\": 3}, {\"Unnamed: 0\": 253, \"tag\": \"Covid-19\", \"cuentatag\": 110, \"fecha\": \"2020-04-01\", \"cuentafecha\": 2}, {\"Unnamed: 0\": 252, \"tag\": \"Covid-19\", \"cuentatag\": 110, \"fecha\": \"2020-03-31\", \"cuentafecha\": 2}, {\"Unnamed: 0\": 251, \"tag\": \"Covid-19\", \"cuentatag\": 110, \"fecha\": \"2020-03-30\", \"cuentafecha\": 2}, {\"Unnamed: 0\": 250, \"tag\": \"Covid-19\", \"cuentatag\": 110, \"fecha\": \"2020-03-29\", \"cuentafecha\": 1}, {\"Unnamed: 0\": 249, \"tag\": \"Covid-19\", \"cuentatag\": 110, \"fecha\": \"2020-03-28\", \"cuentafecha\": 1}, {\"Unnamed: 0\": 248, \"tag\": \"Covid-19\", \"cuentatag\": 110, \"fecha\": \"2020-03-26\", \"cuentafecha\": 2}, {\"Unnamed: 0\": 247, \"tag\": \"Covid-19\", \"cuentatag\": 110, \"fecha\": \"2020-03-25\", \"cuentafecha\": 3}, {\"Unnamed: 0\": 246, \"tag\": \"Covid-19\", \"cuentatag\": 110, \"fecha\": \"2020-03-24\", \"cuentafecha\": 1}, {\"Unnamed: 0\": 245, \"tag\": \"Covid-19\", \"cuentatag\": 110, \"fecha\": \"2020-03-23\", \"cuentafecha\": 2}, {\"Unnamed: 0\": 244, \"tag\": \"Covid-19\", \"cuentatag\": 110, \"fecha\": \"2020-03-22\", \"cuentafecha\": 1}, {\"Unnamed: 0\": 243, \"tag\": \"Covid-19\", \"cuentatag\": 110, \"fecha\": \"2020-03-21\", \"cuentafecha\": 2}, {\"Unnamed: 0\": 242, \"tag\": \"Covid-19\", \"cuentatag\": 110, \"fecha\": \"2020-03-20\", \"cuentafecha\": 3}, {\"Unnamed: 0\": 241, \"tag\": \"Covid-19\", \"cuentatag\": 110, \"fecha\": \"2020-03-19\", \"cuentafecha\": 1}, {\"Unnamed: 0\": 240, \"tag\": \"Covid-19\", \"cuentatag\": 110, \"fecha\": \"2020-03-18\", \"cuentafecha\": 2}, {\"Unnamed: 0\": 239, \"tag\": \"Covid-19\", \"cuentatag\": 110, \"fecha\": \"2020-03-17\", \"cuentafecha\": 1}, {\"Unnamed: 0\": 238, \"tag\": \"Covid-19\", \"cuentatag\": 110, \"fecha\": \"2020-03-14\", \"cuentafecha\": 1}, {\"Unnamed: 0\": 237, \"tag\": \"Covid-19\", \"cuentatag\": 110, \"fecha\": \"2020-03-12\", \"cuentafecha\": 2}, {\"Unnamed: 0\": 236, \"tag\": \"Covid-19\", \"cuentatag\": 110, \"fecha\": \"2020-03-11\", \"cuentafecha\": 3}, {\"Unnamed: 0\": 235, \"tag\": \"Covid-19\", \"cuentatag\": 110, \"fecha\": \"2020-03-10\", \"cuentafecha\": 3}, {\"Unnamed: 0\": 234, \"tag\": \"Covid-19\", \"cuentatag\": 110, \"fecha\": \"2020-03-09\", \"cuentafecha\": 1}, {\"Unnamed: 0\": 233, \"tag\": \"Covid-19\", \"cuentatag\": 110, \"fecha\": \"2020-03-03\", \"cuentafecha\": 1}, {\"Unnamed: 0\": 786, \"tag\": \"Personas con discapacidad \", \"cuentatag\": 11, \"fecha\": \"2020-04-28\", \"cuentafecha\": 1}, {\"Unnamed: 0\": 785, \"tag\": \"Personas con discapacidad \", \"cuentatag\": 11, \"fecha\": \"2020-04-22\", \"cuentafecha\": 1}, {\"Unnamed: 0\": 784, \"tag\": \"Personas con discapacidad \", \"cuentatag\": 11, \"fecha\": \"2020-04-08\", \"cuentafecha\": 1}, {\"Unnamed: 0\": 783, \"tag\": \"Personas con discapacidad \", \"cuentatag\": 11, \"fecha\": \"2020-04-03\", \"cuentafecha\": 1}, {\"Unnamed: 0\": 782, \"tag\": \"Personas con discapacidad \", \"cuentatag\": 11, \"fecha\": \"2020-04-01\", \"cuentafecha\": 1}, {\"Unnamed: 0\": 781, \"tag\": \"Personas con discapacidad \", \"cuentatag\": 11, \"fecha\": \"2020-03-25\", \"cuentafecha\": 1}, {\"Unnamed: 0\": 780, \"tag\": \"Personas con discapacidad \", \"cuentatag\": 11, \"fecha\": \"2020-03-12\", \"cuentafecha\": 1}, {\"Unnamed: 0\": 779, \"tag\": \"Personas con discapacidad \", \"cuentatag\": 11, \"fecha\": \"2020-03-09\", \"cuentafecha\": 1}, {\"Unnamed: 0\": 778, \"tag\": \"Personas con discapacidad \", \"cuentatag\": 11, \"fecha\": \"2020-03-04\", \"cuentafecha\": 1}, {\"Unnamed: 0\": 777, \"tag\": \"Personas con discapacidad \", \"cuentatag\": 11, \"fecha\": \"2020-03-02\", \"cuentafecha\": 1}, {\"Unnamed: 0\": 776, \"tag\": \"Personas con discapacidad \", \"cuentatag\": 11, \"fecha\": \"2020-03-01\", \"cuentafecha\": 1}, {\"Unnamed: 0\": 1010, \"tag\": \"Violencia de g\\u00e9nero\", \"cuentatag\": 5, \"fecha\": \"2020-05-18\", \"cuentafecha\": 1}, {\"Unnamed: 0\": 1009, \"tag\": \"Violencia de g\\u00e9nero\", \"cuentatag\": 5, \"fecha\": \"2020-04-09\", \"cuentafecha\": 1}, {\"Unnamed: 0\": 1008, \"tag\": \"Violencia de g\\u00e9nero\", \"cuentatag\": 5, \"fecha\": \"2020-03-22\", \"cuentafecha\": 1}, {\"Unnamed: 0\": 1007, \"tag\": \"Violencia de g\\u00e9nero\", \"cuentatag\": 5, \"fecha\": \"2020-03-18\", \"cuentafecha\": 1}, {\"Unnamed: 0\": 1006, \"tag\": \"Violencia de g\\u00e9nero\", \"cuentatag\": 5, \"fecha\": \"2020-03-11\", \"cuentafecha\": 1}, {\"Unnamed: 0\": 29, \"tag\": \"AULA\", \"cuentatag\": 3, \"fecha\": \"2020-03-06\", \"cuentafecha\": 1}, {\"Unnamed: 0\": 28, \"tag\": \"AULA\", \"cuentatag\": 3, \"fecha\": \"2020-03-05\", \"cuentafecha\": 1}, {\"Unnamed: 0\": 27, \"tag\": \"AULA\", \"cuentatag\": 3, \"fecha\": \"2020-03-04\", \"cuentafecha\": 1}]}}, {\"mode\": \"vega-lite\"});\n",
              "</script>"
            ]
          },
          "metadata": {
            "tags": []
          },
          "execution_count": 6
        }
      ]
    },
    {
      "cell_type": "code",
      "metadata": {
        "id": "jL18zrokBP-6",
        "colab_type": "code",
        "colab": {
          "base_uri": "https://localhost:8080/",
          "height": 270
        },
        "outputId": "8e600999-122f-4d9d-dc44-22f87b7d9ac9"
      },
      "source": [
        "line2 = base_timeline(df2)\n",
        "alt.layer(line2).configure_axis(\n",
        "  labelFontSize=12,\n",
        "  titleFontSize=14\n",
        "  ).properties(\n",
        "  title='Named Entity Recognized Timeline'\n",
        ").configure_title(\n",
        "  fontSize=20,\n",
        "  color='gray',\n",
        "  dy =-10\n",
        ").interactive()"
      ],
      "execution_count": 7,
      "outputs": [
        {
          "output_type": "execute_result",
          "data": {
            "text/plain": [
              "alt.LayerChart(...)"
            ],
            "text/html": [
              "\n",
              "<div id=\"altair-viz-a29ea7177c3646d8ac0ef5d5e703b92c\"></div>\n",
              "<script type=\"text/javascript\">\n",
              "  (function(spec, embedOpt){\n",
              "    let outputDiv = document.currentScript.previousElementSibling;\n",
              "    if (outputDiv.id !== \"altair-viz-a29ea7177c3646d8ac0ef5d5e703b92c\") {\n",
              "      outputDiv = document.getElementById(\"altair-viz-a29ea7177c3646d8ac0ef5d5e703b92c\");\n",
              "    }\n",
              "    const paths = {\n",
              "      \"vega\": \"https://cdn.jsdelivr.net/npm//vega@5?noext\",\n",
              "      \"vega-lib\": \"https://cdn.jsdelivr.net/npm//vega-lib?noext\",\n",
              "      \"vega-lite\": \"https://cdn.jsdelivr.net/npm//vega-lite@4.8.1?noext\",\n",
              "      \"vega-embed\": \"https://cdn.jsdelivr.net/npm//vega-embed@6?noext\",\n",
              "    };\n",
              "\n",
              "    function loadScript(lib) {\n",
              "      return new Promise(function(resolve, reject) {\n",
              "        var s = document.createElement('script');\n",
              "        s.src = paths[lib];\n",
              "        s.async = true;\n",
              "        s.onload = () => resolve(paths[lib]);\n",
              "        s.onerror = () => reject(`Error loading script: ${paths[lib]}`);\n",
              "        document.getElementsByTagName(\"head\")[0].appendChild(s);\n",
              "      });\n",
              "    }\n",
              "\n",
              "    function showError(err) {\n",
              "      outputDiv.innerHTML = `<div class=\"error\" style=\"color:red;\">${err}</div>`;\n",
              "      throw err;\n",
              "    }\n",
              "\n",
              "    function displayChart(vegaEmbed) {\n",
              "      vegaEmbed(outputDiv, spec, embedOpt)\n",
              "        .catch(err => showError(`Javascript Error: ${err.message}<br>This usually means there's a typo in your chart specification. See the javascript console for the full traceback.`));\n",
              "    }\n",
              "\n",
              "    if(typeof define === \"function\" && define.amd) {\n",
              "      requirejs.config({paths});\n",
              "      require([\"vega-embed\"], displayChart, err => showError(`Error loading script: ${err.message}`));\n",
              "    } else if (typeof vegaEmbed === \"function\") {\n",
              "      displayChart(vegaEmbed);\n",
              "    } else {\n",
              "      loadScript(\"vega\")\n",
              "        .then(() => loadScript(\"vega-lite\"))\n",
              "        .then(() => loadScript(\"vega-embed\"))\n",
              "        .catch(showError)\n",
              "        .then(() => displayChart(vegaEmbed));\n",
              "    }\n",
              "  })({\"config\": {\"view\": {\"continuousWidth\": 400, \"continuousHeight\": 300}, \"axis\": {\"labelFontSize\": 12, \"titleFontSize\": 14}, \"title\": {\"color\": \"gray\", \"dy\": -10, \"fontSize\": 20}}, \"layer\": [{\"mark\": {\"type\": \"circle\", \"opacity\": 0.8, \"stroke\": \"black\", \"strokeWidth\": 1}, \"encoding\": {\"color\": {\"type\": \"nominal\", \"field\": \"tag\", \"legend\": null}, \"size\": {\"type\": \"quantitative\", \"field\": \"cuentafecha\", \"legend\": {\"symbolFillColor\": \"red\", \"title\": \"count x day\"}, \"scale\": {\"range\": [0, 200]}}, \"x\": {\"type\": \"temporal\", \"axis\": {\"format\": \"%d/%m\", \"labelAngle\": 60}, \"field\": \"fecha\", \"scale\": {\"domain\": [\"2020-03-01\", \"2020-5-31\"]}}, \"y\": {\"type\": \"nominal\", \"field\": \"tag\"}}, \"height\": 150, \"selection\": {\"selector001\": {\"type\": \"interval\", \"bind\": \"scales\", \"encodings\": [\"x\", \"y\"]}}, \"width\": 700}], \"data\": {\"name\": \"data-1538b229c3fcd44505cfc917ee0d792d\"}, \"title\": \"Named Entity Recognized Timeline\", \"$schema\": \"https://vega.github.io/schema/vega-lite/v4.8.1.json\", \"datasets\": {\"data-1538b229c3fcd44505cfc917ee0d792d\": [{\"Unnamed: 0\": 1338, \"tag\": \"COVID-19\", \"cuentatag\": 129, \"fecha\": \"2020-05-19\", \"cuentafecha\": 5}, {\"Unnamed: 0\": 1337, \"tag\": \"COVID-19\", \"cuentatag\": 129, \"fecha\": \"2020-05-18\", \"cuentafecha\": 1}, {\"Unnamed: 0\": 1336, \"tag\": \"COVID-19\", \"cuentatag\": 129, \"fecha\": \"2020-05-17\", \"cuentafecha\": 1}, {\"Unnamed: 0\": 1335, \"tag\": \"COVID-19\", \"cuentatag\": 129, \"fecha\": \"2020-05-16\", \"cuentafecha\": 2}, {\"Unnamed: 0\": 1334, \"tag\": \"COVID-19\", \"cuentatag\": 129, \"fecha\": \"2020-05-14\", \"cuentafecha\": 2}, {\"Unnamed: 0\": 1333, \"tag\": \"COVID-19\", \"cuentatag\": 129, \"fecha\": \"2020-05-13\", \"cuentafecha\": 3}, {\"Unnamed: 0\": 1332, \"tag\": \"COVID-19\", \"cuentatag\": 129, \"fecha\": \"2020-05-12\", \"cuentafecha\": 1}, {\"Unnamed: 0\": 1331, \"tag\": \"COVID-19\", \"cuentatag\": 129, \"fecha\": \"2020-05-10\", \"cuentafecha\": 3}, {\"Unnamed: 0\": 1330, \"tag\": \"COVID-19\", \"cuentatag\": 129, \"fecha\": \"2020-05-09\", \"cuentafecha\": 2}, {\"Unnamed: 0\": 1329, \"tag\": \"COVID-19\", \"cuentatag\": 129, \"fecha\": \"2020-05-08\", \"cuentafecha\": 2}, {\"Unnamed: 0\": 1328, \"tag\": \"COVID-19\", \"cuentatag\": 129, \"fecha\": \"2020-05-07\", \"cuentafecha\": 3}, {\"Unnamed: 0\": 1327, \"tag\": \"COVID-19\", \"cuentatag\": 129, \"fecha\": \"2020-05-06\", \"cuentafecha\": 3}, {\"Unnamed: 0\": 1326, \"tag\": \"COVID-19\", \"cuentatag\": 129, \"fecha\": \"2020-05-05\", \"cuentafecha\": 2}, {\"Unnamed: 0\": 1325, \"tag\": \"COVID-19\", \"cuentatag\": 129, \"fecha\": \"2020-05-04\", \"cuentafecha\": 1}, {\"Unnamed: 0\": 1324, \"tag\": \"COVID-19\", \"cuentatag\": 129, \"fecha\": \"2020-05-02\", \"cuentafecha\": 2}, {\"Unnamed: 0\": 1323, \"tag\": \"COVID-19\", \"cuentatag\": 129, \"fecha\": \"2020-05-01\", \"cuentafecha\": 2}, {\"Unnamed: 0\": 1322, \"tag\": \"COVID-19\", \"cuentatag\": 129, \"fecha\": \"2020-04-30\", \"cuentafecha\": 3}, {\"Unnamed: 0\": 1321, \"tag\": \"COVID-19\", \"cuentatag\": 129, \"fecha\": \"2020-04-29\", \"cuentafecha\": 2}, {\"Unnamed: 0\": 1320, \"tag\": \"COVID-19\", \"cuentatag\": 129, \"fecha\": \"2020-04-28\", \"cuentafecha\": 6}, {\"Unnamed: 0\": 1319, \"tag\": \"COVID-19\", \"cuentatag\": 129, \"fecha\": \"2020-04-27\", \"cuentafecha\": 2}, {\"Unnamed: 0\": 1318, \"tag\": \"COVID-19\", \"cuentatag\": 129, \"fecha\": \"2020-04-26\", \"cuentafecha\": 2}, {\"Unnamed: 0\": 1317, \"tag\": \"COVID-19\", \"cuentatag\": 129, \"fecha\": \"2020-04-25\", \"cuentafecha\": 2}, {\"Unnamed: 0\": 1316, \"tag\": \"COVID-19\", \"cuentatag\": 129, \"fecha\": \"2020-04-24\", \"cuentafecha\": 2}, {\"Unnamed: 0\": 1315, \"tag\": \"COVID-19\", \"cuentatag\": 129, \"fecha\": \"2020-04-22\", \"cuentafecha\": 5}, {\"Unnamed: 0\": 1314, \"tag\": \"COVID-19\", \"cuentatag\": 129, \"fecha\": \"2020-04-21\", \"cuentafecha\": 5}, {\"Unnamed: 0\": 1313, \"tag\": \"COVID-19\", \"cuentatag\": 129, \"fecha\": \"2020-04-20\", \"cuentafecha\": 2}, {\"Unnamed: 0\": 1312, \"tag\": \"COVID-19\", \"cuentatag\": 129, \"fecha\": \"2020-04-19\", \"cuentafecha\": 1}, {\"Unnamed: 0\": 1311, \"tag\": \"COVID-19\", \"cuentatag\": 129, \"fecha\": \"2020-04-18\", \"cuentafecha\": 2}, {\"Unnamed: 0\": 1310, \"tag\": \"COVID-19\", \"cuentatag\": 129, \"fecha\": \"2020-04-16\", \"cuentafecha\": 3}, {\"Unnamed: 0\": 1309, \"tag\": \"COVID-19\", \"cuentatag\": 129, \"fecha\": \"2020-04-15\", \"cuentafecha\": 7}, {\"Unnamed: 0\": 1308, \"tag\": \"COVID-19\", \"cuentatag\": 129, \"fecha\": \"2020-04-14\", \"cuentafecha\": 2}, {\"Unnamed: 0\": 1307, \"tag\": \"COVID-19\", \"cuentatag\": 129, \"fecha\": \"2020-04-13\", \"cuentafecha\": 4}, {\"Unnamed: 0\": 1306, \"tag\": \"COVID-19\", \"cuentatag\": 129, \"fecha\": \"2020-04-11\", \"cuentafecha\": 2}, {\"Unnamed: 0\": 1305, \"tag\": \"COVID-19\", \"cuentatag\": 129, \"fecha\": \"2020-04-09\", \"cuentafecha\": 2}, {\"Unnamed: 0\": 1304, \"tag\": \"COVID-19\", \"cuentatag\": 129, \"fecha\": \"2020-04-08\", \"cuentafecha\": 2}, {\"Unnamed: 0\": 1303, \"tag\": \"COVID-19\", \"cuentatag\": 129, \"fecha\": \"2020-04-07\", \"cuentafecha\": 2}, {\"Unnamed: 0\": 1302, \"tag\": \"COVID-19\", \"cuentatag\": 129, \"fecha\": \"2020-04-06\", \"cuentafecha\": 3}, {\"Unnamed: 0\": 1301, \"tag\": \"COVID-19\", \"cuentatag\": 129, \"fecha\": \"2020-04-05\", \"cuentafecha\": 1}, {\"Unnamed: 0\": 1300, \"tag\": \"COVID-19\", \"cuentatag\": 129, \"fecha\": \"2020-04-04\", \"cuentafecha\": 1}, {\"Unnamed: 0\": 1299, \"tag\": \"COVID-19\", \"cuentatag\": 129, \"fecha\": \"2020-04-03\", \"cuentafecha\": 4}, {\"Unnamed: 0\": 1298, \"tag\": \"COVID-19\", \"cuentatag\": 129, \"fecha\": \"2020-04-02\", \"cuentafecha\": 4}, {\"Unnamed: 0\": 1297, \"tag\": \"COVID-19\", \"cuentatag\": 129, \"fecha\": \"2020-04-01\", \"cuentafecha\": 3}, {\"Unnamed: 0\": 1296, \"tag\": \"COVID-19\", \"cuentatag\": 129, \"fecha\": \"2020-03-31\", \"cuentafecha\": 4}, {\"Unnamed: 0\": 1295, \"tag\": \"COVID-19\", \"cuentatag\": 129, \"fecha\": \"2020-03-30\", \"cuentafecha\": 1}, {\"Unnamed: 0\": 1294, \"tag\": \"COVID-19\", \"cuentatag\": 129, \"fecha\": \"2020-03-29\", \"cuentafecha\": 1}, {\"Unnamed: 0\": 1293, \"tag\": \"COVID-19\", \"cuentatag\": 129, \"fecha\": \"2020-03-28\", \"cuentafecha\": 2}, {\"Unnamed: 0\": 1292, \"tag\": \"COVID-19\", \"cuentatag\": 129, \"fecha\": \"2020-03-26\", \"cuentafecha\": 1}, {\"Unnamed: 0\": 1291, \"tag\": \"COVID-19\", \"cuentatag\": 129, \"fecha\": \"2020-03-25\", \"cuentafecha\": 2}, {\"Unnamed: 0\": 1290, \"tag\": \"COVID-19\", \"cuentatag\": 129, \"fecha\": \"2020-03-21\", \"cuentafecha\": 2}, {\"Unnamed: 0\": 1289, \"tag\": \"COVID-19\", \"cuentatag\": 129, \"fecha\": \"2020-03-20\", \"cuentafecha\": 1}, {\"Unnamed: 0\": 1288, \"tag\": \"COVID-19\", \"cuentatag\": 129, \"fecha\": \"2020-03-19\", \"cuentafecha\": 1}, {\"Unnamed: 0\": 1287, \"tag\": \"COVID-19\", \"cuentatag\": 129, \"fecha\": \"2020-03-17\", \"cuentafecha\": 2}, {\"Unnamed: 0\": 1286, \"tag\": \"COVID-19\", \"cuentatag\": 129, \"fecha\": \"2020-03-16\", \"cuentafecha\": 1}, {\"Unnamed: 0\": 1285, \"tag\": \"COVID-19\", \"cuentatag\": 129, \"fecha\": \"2020-03-14\", \"cuentafecha\": 1}, {\"Unnamed: 0\": 1284, \"tag\": \"COVID-19\", \"cuentatag\": 129, \"fecha\": \"2020-03-12\", \"cuentafecha\": 1}, {\"Unnamed: 0\": 4737, \"tag\": \"discapacidad\", \"cuentatag\": 6, \"fecha\": \"2020-05-13\", \"cuentafecha\": 1}, {\"Unnamed: 0\": 4736, \"tag\": \"discapacidad\", \"cuentatag\": 6, \"fecha\": \"2020-04-28\", \"cuentafecha\": 1}, {\"Unnamed: 0\": 4735, \"tag\": \"discapacidad\", \"cuentatag\": 6, \"fecha\": \"2020-04-03\", \"cuentafecha\": 1}, {\"Unnamed: 0\": 4734, \"tag\": \"discapacidad\", \"cuentatag\": 6, \"fecha\": \"2020-03-11\", \"cuentafecha\": 1}, {\"Unnamed: 0\": 4733, \"tag\": \"discapacidad\", \"cuentatag\": 6, \"fecha\": \"2020-03-04\", \"cuentafecha\": 1}, {\"Unnamed: 0\": 4732, \"tag\": \"discapacidad\", \"cuentatag\": 6, \"fecha\": \"2020-03-01\", \"cuentafecha\": 1}, {\"Unnamed: 0\": 9476, \"tag\": \"violencia de g\\u00e9nero\", \"cuentatag\": 3, \"fecha\": \"2020-05-18\", \"cuentafecha\": 1}, {\"Unnamed: 0\": 9475, \"tag\": \"violencia de g\\u00e9nero\", \"cuentatag\": 3, \"fecha\": \"2020-04-09\", \"cuentafecha\": 1}, {\"Unnamed: 0\": 9474, \"tag\": \"violencia de g\\u00e9nero\", \"cuentatag\": 3, \"fecha\": \"2020-03-10\", \"cuentafecha\": 1}, {\"Unnamed: 0\": 1082, \"tag\": \"AULA\", \"cuentatag\": 3, \"fecha\": \"2020-03-06\", \"cuentafecha\": 1}, {\"Unnamed: 0\": 1081, \"tag\": \"AULA\", \"cuentatag\": 3, \"fecha\": \"2020-03-05\", \"cuentafecha\": 1}, {\"Unnamed: 0\": 1080, \"tag\": \"AULA\", \"cuentatag\": 3, \"fecha\": \"2020-03-04\", \"cuentafecha\": 1}]}}, {\"mode\": \"vega-lite\"});\n",
              "</script>"
            ]
          },
          "metadata": {
            "tags": []
          },
          "execution_count": 7
        }
      ]
    }
  ]
}